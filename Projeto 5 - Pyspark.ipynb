{
 "cells": [
  {
   "cell_type": "markdown",
   "id": "e4b4dda5",
   "metadata": {},
   "source": [
    "Neste projeto, utilizo Spark para realizar um ETL no dataset Home Credit Default Risk. O objetivo aqui é fazer transformações de dados e, assim, criar novas variáveis e enriquecer o dataset original, conferindo maior valor preditivo ao modelo estatístico.\n",
    "\n",
    "\n",
    "Este dataset é composto por diferentes tabelas, mas neste projeto, trabalhei exclusivamente com a tabela \"Bureau\", que traz dados sobre empréstimos obtidos e pagamentos feitos pelos clientes. Além disso, a tabela \"columns_description\" foi utilizada para a obtenção de mais informaçãoes sobre cada coluna de \"bureau\".\n",
    "\n",
    "A aplicação do Spark foi rodada utilizando o serviço EMR da AWS, e os arquivos de dados foram armazenados e acessados no S3."
   ]
  },
  {
   "cell_type": "markdown",
   "id": "04ee83d6",
   "metadata": {},
   "source": [
    "### Criando a sessão do Spark com SparkSession"
   ]
  },
  {
   "cell_type": "code",
   "execution_count": 1,
   "id": "054c6112",
   "metadata": {},
   "outputs": [
    {
     "name": "stdout",
     "output_type": "stream",
     "text": [
      "Starting Spark application\n"
     ]
    },
    {
     "data": {
      "text/html": [
       "<table>\n",
       "<tr><th>ID</th><th>YARN Application ID</th><th>Kind</th><th>State</th><th>Spark UI</th><th>Driver log</th><th>User</th><th>Current session?</th></tr><tr><td>5</td><td>application_1685041529512_0006</td><td>pyspark</td><td>idle</td><td><a target=\"_blank\" href=\"http://ip-172-31-17-139.ec2.internal:20888/proxy/application_1685041529512_0006/\">Link</a></td><td><a target=\"_blank\" href=\"http://ip-172-31-21-25.ec2.internal:8042/node/containerlogs/container_1685041529512_0006_01_000001/livy\">Link</a></td><td>None</td><td>✔</td></tr></table>"
      ],
      "text/plain": [
       "<IPython.core.display.HTML object>"
      ]
     },
     "metadata": {},
     "output_type": "display_data"
    },
    {
     "data": {
      "application/vnd.jupyter.widget-view+json": {
       "model_id": "",
       "version_major": 2,
       "version_minor": 0
      },
      "text/plain": [
       "FloatProgress(value=0.0, bar_style='info', description='Progress:', layout=Layout(height='25px', width='50%'),…"
      ]
     },
     "metadata": {},
     "output_type": "display_data"
    },
    {
     "name": "stdout",
     "output_type": "stream",
     "text": [
      "SparkSession available as 'spark'.\n"
     ]
    },
    {
     "data": {
      "application/vnd.jupyter.widget-view+json": {
       "model_id": "",
       "version_major": 2,
       "version_minor": 0
      },
      "text/plain": [
       "FloatProgress(value=0.0, bar_style='info', description='Progress:', layout=Layout(height='25px', width='50%'),…"
      ]
     },
     "metadata": {},
     "output_type": "display_data"
    }
   ],
   "source": [
    "from pyspark.sql import SparkSession\n",
    "\n",
    "spark = SparkSession \\\n",
    "    .builder \\\n",
    "    .appName(\"aplicação no Pyspark para dataset Homecredit risk\") \\\n",
    "    .config('spark.ui.port', '4050') \\\n",
    "    .getOrCreate()"
   ]
  },
  {
   "cell_type": "code",
   "execution_count": 2,
   "id": "1d3a04b6",
   "metadata": {
    "scrolled": true
   },
   "outputs": [
    {
     "data": {
      "application/vnd.jupyter.widget-view+json": {
       "model_id": "",
       "version_major": 2,
       "version_minor": 0
      },
      "text/plain": [
       "FloatProgress(value=0.0, bar_style='info', description='Progress:', layout=Layout(height='25px', width='50%'),…"
      ]
     },
     "metadata": {},
     "output_type": "display_data"
    },
    {
     "name": "stdout",
     "output_type": "stream",
     "text": [
      "<pyspark.sql.session.SparkSession object at 0x7fe2af76ed50>"
     ]
    }
   ],
   "source": [
    "spark"
   ]
  },
  {
   "cell_type": "markdown",
   "id": "92b30f01",
   "metadata": {},
   "source": [
    "### Acessando a tabela de interesse (Bureau)"
   ]
  },
  {
   "cell_type": "code",
   "execution_count": 3,
   "id": "7036d688",
   "metadata": {},
   "outputs": [
    {
     "data": {
      "application/vnd.jupyter.widget-view+json": {
       "model_id": "",
       "version_major": 2,
       "version_minor": 0
      },
      "text/plain": [
       "FloatProgress(value=0.0, bar_style='info', description='Progress:', layout=Layout(height='25px', width='50%'),…"
      ]
     },
     "metadata": {},
     "output_type": "display_data"
    }
   ],
   "source": [
    "df_bureau = spark.read.csv('s3://datasets-projects/bureau.csv', header = True)"
   ]
  },
  {
   "cell_type": "code",
   "execution_count": 4,
   "id": "af3acbb3",
   "metadata": {
    "scrolled": false
   },
   "outputs": [
    {
     "data": {
      "application/vnd.jupyter.widget-view+json": {
       "model_id": "",
       "version_major": 2,
       "version_minor": 0
      },
      "text/plain": [
       "FloatProgress(value=0.0, bar_style='info', description='Progress:', layout=Layout(height='25px', width='50%'),…"
      ]
     },
     "metadata": {},
     "output_type": "display_data"
    },
    {
     "name": "stdout",
     "output_type": "stream",
     "text": [
      "+----------+------------+-------------+---------------+-----------+------------------+-------------------+-----------------+----------------------+------------------+--------------+-------------------+--------------------+----------------------+---------------+------------------+-----------+\n",
      "|SK_ID_CURR|SK_ID_BUREAU|CREDIT_ACTIVE|CREDIT_CURRENCY|DAYS_CREDIT|CREDIT_DAY_OVERDUE|DAYS_CREDIT_ENDDATE|DAYS_ENDDATE_FACT|AMT_CREDIT_MAX_OVERDUE|CNT_CREDIT_PROLONG|AMT_CREDIT_SUM|AMT_CREDIT_SUM_DEBT|AMT_CREDIT_SUM_LIMIT|AMT_CREDIT_SUM_OVERDUE|CREDIT_TYPE    |DAYS_CREDIT_UPDATE|AMT_ANNUITY|\n",
      "+----------+------------+-------------+---------------+-----------+------------------+-------------------+-----------------+----------------------+------------------+--------------+-------------------+--------------------+----------------------+---------------+------------------+-----------+\n",
      "|215354    |5714462     |Closed       |currency 1     |-497       |0                 |-153.0             |-153.0           |null                  |0                 |91323.0       |0.0                |null                |0.0                   |Consumer credit|-131              |null       |\n",
      "|215354    |5714463     |Active       |currency 1     |-208       |0                 |1075.0             |null             |null                  |0                 |225000.0      |171342.0           |null                |0.0                   |Credit card    |-20               |null       |\n",
      "|215354    |5714464     |Active       |currency 1     |-203       |0                 |528.0              |null             |null                  |0                 |464323.5      |null               |null                |0.0                   |Consumer credit|-16               |null       |\n",
      "|215354    |5714465     |Active       |currency 1     |-203       |0                 |null               |null             |null                  |0                 |90000.0       |null               |null                |0.0                   |Credit card    |-16               |null       |\n",
      "|215354    |5714466     |Active       |currency 1     |-629       |0                 |1197.0             |null             |77674.5               |0                 |2700000.0     |null               |null                |0.0                   |Consumer credit|-21               |null       |\n",
      "|215354    |5714467     |Active       |currency 1     |-273       |0                 |27460.0            |null             |0.0                   |0                 |180000.0      |71017.38           |108982.62           |0.0                   |Credit card    |-31               |null       |\n",
      "|215354    |5714468     |Active       |currency 1     |-43        |0                 |79.0               |null             |0.0                   |0                 |42103.8       |42103.8            |0.0                 |0.0                   |Consumer credit|-22               |null       |\n",
      "|162297    |5714469     |Closed       |currency 1     |-1896      |0                 |-1684.0            |-1710.0          |14985.0               |0                 |76878.45      |0.0                |0.0                 |0.0                   |Consumer credit|-1710             |null       |\n",
      "|162297    |5714470     |Closed       |currency 1     |-1146      |0                 |-811.0             |-840.0           |0.0                   |0                 |103007.7      |0.0                |0.0                 |0.0                   |Consumer credit|-840              |null       |\n",
      "|162297    |5714471     |Active       |currency 1     |-1146      |0                 |-484.0             |null             |0.0                   |0                 |4500.0        |0.0                |0.0                 |0.0                   |Credit card    |-690              |null       |\n",
      "|162297    |5714472     |Active       |currency 1     |-1146      |0                 |-180.0             |null             |0.0                   |0                 |337500.0      |0.0                |0.0                 |0.0                   |Credit card    |-690              |null       |\n",
      "|162297    |5714473     |Closed       |currency 1     |-2456      |0                 |-629.0             |-825.0           |null                  |0                 |675000.0      |0.0                |0.0                 |0.0                   |Consumer credit|-706              |null       |\n",
      "|162297    |5714474     |Active       |currency 1     |-277       |0                 |5261.0             |null             |0.0                   |0                 |7033500.0     |null               |null                |0.0                   |Mortgage       |-31               |null       |\n",
      "|402440    |5714475     |Active       |currency 1     |-96        |0                 |269.0              |null             |0.0                   |0                 |89910.0       |76905.0            |0.0                 |0.0                   |Consumer credit|-22               |null       |\n",
      "|238881    |5714482     |Closed       |currency 1     |-318       |0                 |-187.0             |-187.0           |null                  |0                 |0.0           |0.0                |0.0                 |0.0                   |Credit card    |-185              |null       |\n",
      "|238881    |5714484     |Closed       |currency 1     |-2911      |0                 |-2607.0            |-2604.0          |null                  |0                 |48555.0       |null               |null                |0.0                   |Consumer credit|-2601             |null       |\n",
      "|238881    |5714485     |Closed       |currency 1     |-2148      |0                 |-1595.0            |-987.0           |null                  |0                 |135000.0      |null               |null                |0.0                   |Consumer credit|-984              |null       |\n",
      "|238881    |5714486     |Active       |currency 1     |-381       |0                 |null               |null             |null                  |0                 |450000.0      |520920.0           |null                |0.0                   |Consumer credit|-4                |null       |\n",
      "|238881    |5714487     |Active       |currency 1     |-95        |0                 |1720.0             |null             |null                  |0                 |67500.0       |8131.5             |null                |0.0                   |Credit card    |-7                |null       |\n",
      "|238881    |5714488     |Closed       |currency 1     |-444       |0                 |-77.0              |-77.0            |0.0                   |0                 |107184.06     |0.0                |0.0                 |0.0                   |Consumer credit|-71               |null       |\n",
      "+----------+------------+-------------+---------------+-----------+------------------+-------------------+-----------------+----------------------+------------------+--------------+-------------------+--------------------+----------------------+---------------+------------------+-----------+\n",
      "only showing top 20 rows"
     ]
    }
   ],
   "source": [
    "df_bureau.show(truncate = False)"
   ]
  },
  {
   "cell_type": "markdown",
   "id": "0e00bed9",
   "metadata": {},
   "source": [
    "### Entendendo o dataset bureau"
   ]
  },
  {
   "cell_type": "code",
   "execution_count": 5,
   "id": "a88ca46f",
   "metadata": {
    "scrolled": false
   },
   "outputs": [
    {
     "data": {
      "application/vnd.jupyter.widget-view+json": {
       "model_id": "",
       "version_major": 2,
       "version_minor": 0
      },
      "text/plain": [
       "FloatProgress(value=0.0, bar_style='info', description='Progress:', layout=Layout(height='25px', width='50%'),…"
      ]
     },
     "metadata": {},
     "output_type": "display_data"
    },
    {
     "name": "stdout",
     "output_type": "stream",
     "text": [
      "root\n",
      " |-- SK_ID_CURR: string (nullable = true)\n",
      " |-- SK_ID_BUREAU: string (nullable = true)\n",
      " |-- CREDIT_ACTIVE: string (nullable = true)\n",
      " |-- CREDIT_CURRENCY: string (nullable = true)\n",
      " |-- DAYS_CREDIT: string (nullable = true)\n",
      " |-- CREDIT_DAY_OVERDUE: string (nullable = true)\n",
      " |-- DAYS_CREDIT_ENDDATE: string (nullable = true)\n",
      " |-- DAYS_ENDDATE_FACT: string (nullable = true)\n",
      " |-- AMT_CREDIT_MAX_OVERDUE: string (nullable = true)\n",
      " |-- CNT_CREDIT_PROLONG: string (nullable = true)\n",
      " |-- AMT_CREDIT_SUM: string (nullable = true)\n",
      " |-- AMT_CREDIT_SUM_DEBT: string (nullable = true)\n",
      " |-- AMT_CREDIT_SUM_LIMIT: string (nullable = true)\n",
      " |-- AMT_CREDIT_SUM_OVERDUE: string (nullable = true)\n",
      " |-- CREDIT_TYPE: string (nullable = true)\n",
      " |-- DAYS_CREDIT_UPDATE: string (nullable = true)\n",
      " |-- AMT_ANNUITY: string (nullable = true)"
     ]
    }
   ],
   "source": [
    "df_bureau.printSchema()"
   ]
  },
  {
   "cell_type": "code",
   "execution_count": 6,
   "id": "d6ad8ecb",
   "metadata": {
    "scrolled": true
   },
   "outputs": [
    {
     "data": {
      "application/vnd.jupyter.widget-view+json": {
       "model_id": "",
       "version_major": 2,
       "version_minor": 0
      },
      "text/plain": [
       "FloatProgress(value=0.0, bar_style='info', description='Progress:', layout=Layout(height='25px', width='50%'),…"
      ]
     },
     "metadata": {},
     "output_type": "display_data"
    },
    {
     "name": "stdout",
     "output_type": "stream",
     "text": [
      "17"
     ]
    }
   ],
   "source": [
    "num_colunas_df_bureau = len(df_bureau.columns)\n",
    "\n",
    "num_colunas_df_bureau"
   ]
  },
  {
   "cell_type": "code",
   "execution_count": 7,
   "id": "a46f72c9",
   "metadata": {},
   "outputs": [
    {
     "data": {
      "application/vnd.jupyter.widget-view+json": {
       "model_id": "",
       "version_major": 2,
       "version_minor": 0
      },
      "text/plain": [
       "FloatProgress(value=0.0, bar_style='info', description='Progress:', layout=Layout(height='25px', width='50%'),…"
      ]
     },
     "metadata": {},
     "output_type": "display_data"
    },
    {
     "name": "stdout",
     "output_type": "stream",
     "text": [
      "1716428"
     ]
    }
   ],
   "source": [
    "df_bureau.count()"
   ]
  },
  {
   "cell_type": "markdown",
   "id": "08757a01",
   "metadata": {},
   "source": [
    "Podemos ver que a tabela tem 17 colunas e 1.716.428 colunas."
   ]
  },
  {
   "cell_type": "markdown",
   "id": "cea821e9",
   "metadata": {},
   "source": [
    "### Criando views temporárias\n",
    "\n",
    "Criação de uma view temporária para começar a trabalhar com os dados de bureau."
   ]
  },
  {
   "cell_type": "code",
   "execution_count": 9,
   "id": "00ec398b",
   "metadata": {
    "scrolled": false
   },
   "outputs": [
    {
     "data": {
      "application/vnd.jupyter.widget-view+json": {
       "model_id": "",
       "version_major": 2,
       "version_minor": 0
      },
      "text/plain": [
       "FloatProgress(value=0.0, bar_style='info', description='Progress:', layout=Layout(height='25px', width='50%'),…"
      ]
     },
     "metadata": {},
     "output_type": "display_data"
    }
   ],
   "source": [
    "df_bureau.createOrReplaceTempView('bureau')"
   ]
  },
  {
   "cell_type": "code",
   "execution_count": 10,
   "id": "f205e989",
   "metadata": {
    "scrolled": true
   },
   "outputs": [
    {
     "data": {
      "application/vnd.jupyter.widget-view+json": {
       "model_id": "",
       "version_major": 2,
       "version_minor": 0
      },
      "text/plain": [
       "FloatProgress(value=0.0, bar_style='info', description='Progress:', layout=Layout(height='25px', width='50%'),…"
      ]
     },
     "metadata": {},
     "output_type": "display_data"
    }
   ],
   "source": [
    "from pyspark.sql.functions import count"
   ]
  },
  {
   "cell_type": "code",
   "execution_count": 11,
   "id": "6ea93276",
   "metadata": {},
   "outputs": [
    {
     "data": {
      "application/vnd.jupyter.widget-view+json": {
       "model_id": "",
       "version_major": 2,
       "version_minor": 0
      },
      "text/plain": [
       "FloatProgress(value=0.0, bar_style='info', description='Progress:', layout=Layout(height='25px', width='50%'),…"
      ]
     },
     "metadata": {},
     "output_type": "display_data"
    },
    {
     "name": "stdout",
     "output_type": "stream",
     "text": [
      "+-------------+--------+\n",
      "|CREDIT_ACTIVE|count(1)|\n",
      "+-------------+--------+\n",
      "|     Bad debt|      21|\n",
      "|       Active|  630607|\n",
      "|       Closed| 1079273|\n",
      "|         Sold|    6527|\n",
      "+-------------+--------+"
     ]
    }
   ],
   "source": [
    "# Aqui vamos ver os dados distintos na coluna CREDIT_ACTIVE e as suas contagens\n",
    "# Vamos repertir esse passo para diversas outras colunas\n",
    "spark.sql('''\n",
    "SELECT\n",
    "    CREDIT_ACTIVE,\n",
    "    COUNT(*)\n",
    "FROM df_bureau\n",
    "GROUP BY CREDIT_ACTIVE\n",
    "''').show()"
   ]
  },
  {
   "cell_type": "markdown",
   "id": "48e851a6",
   "metadata": {},
   "source": [
    "Agora vamos transformar a coluna CREDIT_ACTIVE, que armazena dados do tipo de empréstimo tomado pelos clientes\n",
    "\n",
    "Utilizando o comando CASE WHEN, vamos desmembrar esta coluna em 4 novas colunas (número de diferentes variáveis da coluna original e que serão mantidas). A nova coluna que corresponder ao tipo de credit_active do registro receberá o valor 1, enquanto as outras novas colunas receberão o valor 0. \n",
    "Como cada indivíduo (SK_ID_CURR) pode ter diversas ocorrências de CREDIT_ACTIVE em seu histórico, os dados foram agrupados por ID e somados.\n",
    "\n",
    "Neste sentido, podemos também verificar quantos empréstimos cada cliente tomou."
   ]
  },
  {
   "cell_type": "code",
   "execution_count": 12,
   "id": "71e73942",
   "metadata": {
    "scrolled": true
   },
   "outputs": [
    {
     "data": {
      "application/vnd.jupyter.widget-view+json": {
       "model_id": "",
       "version_major": 2,
       "version_minor": 0
      },
      "text/plain": [
       "FloatProgress(value=0.0, bar_style='info', description='Progress:', layout=Layout(height='25px', width='50%'),…"
      ]
     },
     "metadata": {},
     "output_type": "display_data"
    },
    {
     "name": "stdout",
     "output_type": "stream",
     "text": [
      "+----------+------------------------+------------------------+--------------------------+----------------------+\n",
      "|SK_ID_CURR|qtd_credit_active_closed|qtd_credit_active_active|qtd_credit_active_bad_debt|qtd_credit_active_sold|\n",
      "+----------+------------------------+------------------------+--------------------------+----------------------+\n",
      "|    146433|                       5|                       1|                         0|                     0|\n",
      "|    424856|                       7|                       1|                         0|                     0|\n",
      "|    100320|                       3|                       3|                         0|                     0|\n",
      "|    411129|                       3|                       2|                         0|                     0|\n",
      "|    242097|                       1|                       0|                         0|                     0|\n",
      "|    366716|                       4|                       2|                         0|                     0|\n",
      "|    222457|                       0|                       3|                         0|                     0|\n",
      "|    306859|                       0|                       1|                         0|                     0|\n",
      "|    272074|                       0|                       3|                         0|                     0|\n",
      "|    332661|                      11|                       4|                         0|                     0|\n",
      "|    396630|                       1|                       1|                         0|                     0|\n",
      "|    379813|                       1|                       1|                         0|                     0|\n",
      "|    115053|                       6|                       0|                         0|                     0|\n",
      "|    281174|                       3|                       9|                         0|                     0|\n",
      "|    111710|                       2|                       0|                         0|                     0|\n",
      "|    433985|                       2|                       1|                         0|                     0|\n",
      "|    333648|                       3|                       3|                         0|                     0|\n",
      "|    378590|                       4|                       1|                         0|                     0|\n",
      "|    348905|                       0|                       2|                         0|                     0|\n",
      "|    299988|                       1|                       1|                         0|                     0|\n",
      "+----------+------------------------+------------------------+--------------------------+----------------------+\n",
      "only showing top 20 rows"
     ]
    }
   ],
   "source": [
    "spark.sql('''\n",
    "SELECT\n",
    "    SK_ID_CURR,\n",
    "    SUM(CASE WHEN CREDIT_ACTIVE = 'Closed' THEN 1 ELSE 0 END) AS qtd_credit_active_closed,\n",
    "    SUM(CASE WHEN CREDIT_ACTIVE = 'Active' THEN 1 ELSE 0 END) AS qtd_credit_active_active,\n",
    "    SUM(CASE WHEN CREDIT_ACTIVE = 'Bad debt' THEN 1 ELSE 0 END) AS qtd_credit_active_bad_debt,\n",
    "    SUM(CASE WHEN CREDIT_ACTIVE = 'Sold' THEN 1 ELSE 0 END) AS qtd_credit_active_sold\n",
    "FROM df_bureau\n",
    "GROUP BY SK_ID_CURR\n",
    "''').show()"
   ]
  },
  {
   "cell_type": "code",
   "execution_count": 13,
   "id": "2e361dee",
   "metadata": {},
   "outputs": [
    {
     "data": {
      "application/vnd.jupyter.widget-view+json": {
       "model_id": "",
       "version_major": 2,
       "version_minor": 0
      },
      "text/plain": [
       "FloatProgress(value=0.0, bar_style='info', description='Progress:', layout=Layout(height='25px', width='50%'),…"
      ]
     },
     "metadata": {},
     "output_type": "display_data"
    },
    {
     "name": "stdout",
     "output_type": "stream",
     "text": [
      "+----------+-------------------+\n",
      "|SK_ID_CURR|count(SK_ID_BUREAU)|\n",
      "+----------+-------------------+\n",
      "|    146433|                  6|\n",
      "|    424856|                  8|\n",
      "|    100320|                  6|\n",
      "|    411129|                  5|\n",
      "|    242097|                  1|\n",
      "|    366716|                  6|\n",
      "|    222457|                  3|\n",
      "|    306859|                  1|\n",
      "|    272074|                  3|\n",
      "|    332661|                 15|\n",
      "+----------+-------------------+\n",
      "only showing top 10 rows"
     ]
    }
   ],
   "source": [
    "# Verificando os dados distintos da coluna SK_ID_BUREAU, ou seja, verificando quantos empréstimos cada cliente tomou.\n",
    "spark.sql('''\n",
    "SELECT\n",
    "    SK_ID_CURR,\n",
    "    COUNT(SK_ID_BUREAU)\n",
    "FROM df_bureau\n",
    "GROUP BY SK_ID_CURR\n",
    "''').show(10)"
   ]
  },
  {
   "cell_type": "code",
   "execution_count": null,
   "id": "c28ebb6a",
   "metadata": {},
   "outputs": [],
   "source": []
  },
  {
   "cell_type": "markdown",
   "id": "e62bd88a",
   "metadata": {},
   "source": []
  }
 ],
 "metadata": {
  "kernelspec": {
   "display_name": "PySpark",
   "language": "python",
   "name": "pysparkkernel"
  },
  "language_info": {
   "codemirror_mode": {
    "name": "python",
    "version": 3
   },
   "file_extension": ".py",
   "mimetype": "text/x-python",
   "name": "pyspark",
   "pygments_lexer": "python3"
  }
 },
 "nbformat": 4,
 "nbformat_minor": 5
}

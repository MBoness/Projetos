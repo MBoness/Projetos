{
 "cells": [
  {
   "cell_type": "markdown",
   "id": "e4b4dda5",
   "metadata": {},
   "source": [
    "Neste projeto, utilizo PySpark para realizar um ETL no dataset Home Credit Default Risk. O objetivo aqui é fazer transformações de dados e, assim, criar novas variáveis para enriquecer o dataset original. O uso deste dataset enriquecido deverá conferir maior valor preditivo ao modelo estatístico. \n",
    "\n",
    "Na tabela \"bureau\" os dados de cada clientes estão dispostos em várias linhas, cada uma correspondendo a um pedido de empréstimo. Com estas transformações, os dados de cada cliente serão agregados e passarão a ser representados por apenas uma linha, desta forma permitindo o seu uso em modelos de ML.\n",
    "\n",
    "O dataset completo é composto por diferentes tabelas, mas neste projeto, trabalharei exclusivamente com a tabela \"bureau\", que traz dados sobre os empréstimos obtidos e seus pagamentos. Além disso, a tabela \"columns_description\" foi utilizada para a obtenção de mais informaçãoes sobre cada coluna de \"bureau\".\n",
    "\n",
    "A aplicação do Spark foi rodada em nuvem utilizando o serviço de processamento de dados distribuído em clusters (EMR) da AWS, e os arquivos de dados foram armazenados e acessados no S3. "
   ]
  },
  {
   "cell_type": "markdown",
   "id": "04ee83d6",
   "metadata": {},
   "source": [
    "### Criando a sessão do Spark com SparkSession"
   ]
  },
  {
   "cell_type": "code",
   "execution_count": 2,
   "id": "054c6112",
   "metadata": {},
   "outputs": [
    {
     "data": {
      "application/vnd.jupyter.widget-view+json": {
       "model_id": "",
       "version_major": 2,
       "version_minor": 0
      },
      "text/plain": 
     },
     "metadata": {},
     "output_type": "display_data"
    }
   ],
   "source": [
    "from pyspark.sql import SparkSession\n",
    "\n",
    "spark = SparkSession \\\n",
    "    .builder \\\n",
    "    .appName(\"aplicação no Pyspark para dataset Homecredit risk\") \\\n",
    "    .config('spark.ui.port', '4050') \\\n",
    "    .getOrCreate()"
   ]
  },
  {
   "cell_type": "code",
   "execution_count": 3,
   "id": "1d3a04b6",
   "metadata": {
    "scrolled": true
   },
   "outputs": [
    {
     "data": {
      "application/vnd.jupyter.widget-view+json": {
       "model_id": "",
       "version_major": 2,
       "version_minor": 0
      },
      "text/plain": [
       "FloatProgress(value=0.0, bar_style='info', description='Progress:', layout=Layout(height='25px', width='50%'),…"
      ]
     },
     "metadata": {},
     "output_type": "display_data"
    },
    {
     "name": "stdout",
     "output_type": "stream",
     "text": [
      "<pyspark.sql.session.SparkSession object at 0x7f268be83d90>"
     ]
    }
   ],
   "source": [
    "spark"
   ]
  },
  {
   "cell_type": "markdown",
   "id": "92b30f01",
   "metadata": {},
   "source": [
    "### Acessando a tabela de interesse (Bureau)"
   ]
  },
  {
   "cell_type": "code",
   "execution_count": 4,
   "id": "7036d688",
   "metadata": {},
   "outputs": [
    {
     "data": {
      "application/vnd.jupyter.widget-view+json": {
       "model_id": "",
       "version_major": 2,
       "version_minor": 0
      },
      "text/plain": [
       "FloatProgress(value=0.0, bar_style='info', description='Progress:', layout=Layout(height='25px', width='50%'),…"
      ]
     },
     "metadata": {},
     "output_type": "display_data"
    }
   ],
   "source": [
    "df_bureau = spark.read.csv(\"s3://datasets-projects/bureau.csv\", header=True, sep=\",\")"
   ]
  },
  {
   "cell_type": "code",
   "execution_count": 5,
   "id": "af3acbb3",
   "metadata": {
    "scrolled": false
   },
   "outputs": [
    {
     "data": {
      "application/vnd.jupyter.widget-view+json": {
       "model_id": "",
       "version_major": 2,
       "version_minor": 0
      },
      "text/plain": [
       "FloatProgress(value=0.0, bar_style='info', description='Progress:', layout=Layout(height='25px', width='50%'),…"
      ]
     },
     "metadata": {},
     "output_type": "display_data"
    },
    {
     "name": "stdout",
     "output_type": "stream",
     "text": [
      "+----------+------------+-------------+---------------+-----------+------------------+-------------------+-----------------+----------------------+------------------+--------------+-------------------+--------------------+----------------------+---------------+------------------+-----------+\n",
      "|SK_ID_CURR|SK_ID_BUREAU|CREDIT_ACTIVE|CREDIT_CURRENCY|DAYS_CREDIT|CREDIT_DAY_OVERDUE|DAYS_CREDIT_ENDDATE|DAYS_ENDDATE_FACT|AMT_CREDIT_MAX_OVERDUE|CNT_CREDIT_PROLONG|AMT_CREDIT_SUM|AMT_CREDIT_SUM_DEBT|AMT_CREDIT_SUM_LIMIT|AMT_CREDIT_SUM_OVERDUE|CREDIT_TYPE    |DAYS_CREDIT_UPDATE|AMT_ANNUITY|\n",
      "+----------+------------+-------------+---------------+-----------+------------------+-------------------+-----------------+----------------------+------------------+--------------+-------------------+--------------------+----------------------+---------------+------------------+-----------+\n",
      "|215354    |5714462     |Closed       |currency 1     |-497       |0                 |-153.0             |-153.0           |null                  |0                 |91323.0       |0.0                |null                |0.0                   |Consumer credit|-131              |null       |\n",
      "|215354    |5714463     |Active       |currency 1     |-208       |0                 |1075.0             |null             |null                  |0                 |225000.0      |171342.0           |null                |0.0                   |Credit card    |-20               |null       |\n",
      "|215354    |5714464     |Active       |currency 1     |-203       |0                 |528.0              |null             |null                  |0                 |464323.5      |null               |null                |0.0                   |Consumer credit|-16               |null       |\n",
      "|215354    |5714465     |Active       |currency 1     |-203       |0                 |null               |null             |null                  |0                 |90000.0       |null               |null                |0.0                   |Credit card    |-16               |null       |\n",
      "|215354    |5714466     |Active       |currency 1     |-629       |0                 |1197.0             |null             |77674.5               |0                 |2700000.0     |null               |null                |0.0                   |Consumer credit|-21               |null       |\n",
      "|215354    |5714467     |Active       |currency 1     |-273       |0                 |27460.0            |null             |0.0                   |0                 |180000.0      |71017.38           |108982.62           |0.0                   |Credit card    |-31               |null       |\n",
      "|215354    |5714468     |Active       |currency 1     |-43        |0                 |79.0               |null             |0.0                   |0                 |42103.8       |42103.8            |0.0                 |0.0                   |Consumer credit|-22               |null       |\n",
      "|162297    |5714469     |Closed       |currency 1     |-1896      |0                 |-1684.0            |-1710.0          |14985.0               |0                 |76878.45      |0.0                |0.0                 |0.0                   |Consumer credit|-1710             |null       |\n",
      "|162297    |5714470     |Closed       |currency 1     |-1146      |0                 |-811.0             |-840.0           |0.0                   |0                 |103007.7      |0.0                |0.0                 |0.0                   |Consumer credit|-840              |null       |\n",
      "|162297    |5714471     |Active       |currency 1     |-1146      |0                 |-484.0             |null             |0.0                   |0                 |4500.0        |0.0                |0.0                 |0.0                   |Credit card    |-690              |null       |\n",
      "|162297    |5714472     |Active       |currency 1     |-1146      |0                 |-180.0             |null             |0.0                   |0                 |337500.0      |0.0                |0.0                 |0.0                   |Credit card    |-690              |null       |\n",
      "|162297    |5714473     |Closed       |currency 1     |-2456      |0                 |-629.0             |-825.0           |null                  |0                 |675000.0      |0.0                |0.0                 |0.0                   |Consumer credit|-706              |null       |\n",
      "|162297    |5714474     |Active       |currency 1     |-277       |0                 |5261.0             |null             |0.0                   |0                 |7033500.0     |null               |null                |0.0                   |Mortgage       |-31               |null       |\n",
      "|402440    |5714475     |Active       |currency 1     |-96        |0                 |269.0              |null             |0.0                   |0                 |89910.0       |76905.0            |0.0                 |0.0                   |Consumer credit|-22               |null       |\n",
      "|238881    |5714482     |Closed       |currency 1     |-318       |0                 |-187.0             |-187.0           |null                  |0                 |0.0           |0.0                |0.0                 |0.0                   |Credit card    |-185              |null       |\n",
      "|238881    |5714484     |Closed       |currency 1     |-2911      |0                 |-2607.0            |-2604.0          |null                  |0                 |48555.0       |null               |null                |0.0                   |Consumer credit|-2601             |null       |\n",
      "|238881    |5714485     |Closed       |currency 1     |-2148      |0                 |-1595.0            |-987.0           |null                  |0                 |135000.0      |null               |null                |0.0                   |Consumer credit|-984              |null       |\n",
      "|238881    |5714486     |Active       |currency 1     |-381       |0                 |null               |null             |null                  |0                 |450000.0      |520920.0           |null                |0.0                   |Consumer credit|-4                |null       |\n",
      "|238881    |5714487     |Active       |currency 1     |-95        |0                 |1720.0             |null             |null                  |0                 |67500.0       |8131.5             |null                |0.0                   |Credit card    |-7                |null       |\n",
      "|238881    |5714488     |Closed       |currency 1     |-444       |0                 |-77.0              |-77.0            |0.0                   |0                 |107184.06     |0.0                |0.0                 |0.0                   |Consumer credit|-71               |null       |\n",
      "+----------+------------+-------------+---------------+-----------+------------------+-------------------+-----------------+----------------------+------------------+--------------+-------------------+--------------------+----------------------+---------------+------------------+-----------+\n",
      "only showing top 20 rows"
     ]
    }
   ],
   "source": [
    "df_bureau.show(truncate = False)"
   ]
  },
  {
   "cell_type": "markdown",
   "id": "0e00bed9",
   "metadata": {},
   "source": [
    "### Entendendo a tabela bureau"
   ]
  },
  {
   "cell_type": "code",
   "execution_count": 6,
   "id": "a88ca46f",
   "metadata": {
    "scrolled": false
   },
   "outputs": [
    {
     "data": {
      "application/vnd.jupyter.widget-view+json": {
       "model_id": "",
       "version_major": 2,
       "version_minor": 0
      },
      "text/plain": [
       "FloatProgress(value=0.0, bar_style='info', description='Progress:', layout=Layout(height='25px', width='50%'),…"
      ]
     },
     "metadata": {},
     "output_type": "display_data"
    },
    {
     "name": "stdout",
     "output_type": "stream",
     "text": [
      "root\n",
      " |-- SK_ID_CURR: string (nullable = true)\n",
      " |-- SK_ID_BUREAU: string (nullable = true)\n",
      " |-- CREDIT_ACTIVE: string (nullable = true)\n",
      " |-- CREDIT_CURRENCY: string (nullable = true)\n",
      " |-- DAYS_CREDIT: string (nullable = true)\n",
      " |-- CREDIT_DAY_OVERDUE: string (nullable = true)\n",
      " |-- DAYS_CREDIT_ENDDATE: string (nullable = true)\n",
      " |-- DAYS_ENDDATE_FACT: string (nullable = true)\n",
      " |-- AMT_CREDIT_MAX_OVERDUE: string (nullable = true)\n",
      " |-- CNT_CREDIT_PROLONG: string (nullable = true)\n",
      " |-- AMT_CREDIT_SUM: string (nullable = true)\n",
      " |-- AMT_CREDIT_SUM_DEBT: string (nullable = true)\n",
      " |-- AMT_CREDIT_SUM_LIMIT: string (nullable = true)\n",
      " |-- AMT_CREDIT_SUM_OVERDUE: string (nullable = true)\n",
      " |-- CREDIT_TYPE: string (nullable = true)\n",
      " |-- DAYS_CREDIT_UPDATE: string (nullable = true)\n",
      " |-- AMT_ANNUITY: string (nullable = true)"
     ]
    }
   ],
   "source": [
    "df_bureau.printSchema()"
   ]
  },
  {
   "cell_type": "code",
   "execution_count": 7,
   "id": "d6ad8ecb",
   "metadata": {
    "scrolled": true
   },
   "outputs": [
    {
     "data": {
      "application/vnd.jupyter.widget-view+json": {
       "model_id": "",
       "version_major": 2,
       "version_minor": 0
      },
      "text/plain": [
       "FloatProgress(value=0.0, bar_style='info', description='Progress:', layout=Layout(height='25px', width='50%'),…"
      ]
     },
     "metadata": {},
     "output_type": "display_data"
    },
    {
     "name": "stdout",
     "output_type": "stream",
     "text": [
      "A tabela df_bureau contem 17 colunas"
     ]
    }
   ],
   "source": [
    "num_colunas_df_bureau = len(df_bureau.columns)\n",
    "\n",
    "print (f\"A tabela df_bureau contem {num_colunas_df_bureau} colunas\")"
   ]
  },
  {
   "cell_type": "code",
   "execution_count": 8,
   "id": "a46f72c9",
   "metadata": {
    "scrolled": true
   },
   "outputs": [
    {
     "data": {
      "application/vnd.jupyter.widget-view+json": {
       "model_id": "",
       "version_major": 2,
       "version_minor": 0
      },
      "text/plain": [
       "FloatProgress(value=0.0, bar_style='info', description='Progress:', layout=Layout(height='25px', width='50%'),…"
      ]
     },
     "metadata": {},
     "output_type": "display_data"
    },
    {
     "name": "stdout",
     "output_type": "stream",
     "text": [
      "A tabela df_bureau contem 1716428 linhas"
     ]
    }
   ],
   "source": [
    "count_linhas = df_bureau.count()\n",
    "\n",
    "print (f\"A tabela df_bureau contem {count_linhas} linhas\")"
   ]
  },
  {
   "cell_type": "code",
   "execution_count": 10,
   "id": "910b16cc",
   "metadata": {},
   "outputs": [
    {
     "data": {
      "application/vnd.jupyter.widget-view+json": {
       "model_id": "",
       "version_major": 2,
       "version_minor": 0
      },
      "text/plain": [
       "FloatProgress(value=0.0, bar_style='info', description='Progress:', layout=Layout(height='25px', width='50%'),…"
      ]
     },
     "metadata": {},
     "output_type": "display_data"
    },
    {
     "name": "stdout",
     "output_type": "stream",
     "text": [
      "A tabela df_bureau contem 305811 valores distintos na coluna SK_ID_CURR"
     ]
    }
   ],
   "source": [
    "linhas_distintas = df_bureau.select(\"SK_ID_CURR\").distinct().count()\n",
    "\n",
    "print (f\"A tabela df_bureau contem {linhas_distintas} valores distintos na coluna SK_ID_CURR\")"
   ]
  },
  {
   "cell_type": "markdown",
   "id": "08757a01",
   "metadata": {},
   "source": [
    "Podemos ver que a tabela bureau tem 17 colunas, 1.716.428 colunas e 305.811 IDs únicos."
   ]
  },
  {
   "cell_type": "markdown",
   "id": "cea821e9",
   "metadata": {},
   "source": [
    "### Criando uma view temporária\n",
    "\n",
    "Criação de uma view temporária para utilizar consultas em linguagem SQL"
   ]
  },
  {
   "cell_type": "code",
   "execution_count": 11,
   "id": "00ec398b",
   "metadata": {
    "scrolled": false
   },
   "outputs": [
    {
     "data": {
      "application/vnd.jupyter.widget-view+json": {
       "model_id": "",
       "version_major": 2,
       "version_minor": 0
      },
      "text/plain": [
       "FloatProgress(value=0.0, bar_style='info', description='Progress:', layout=Layout(height='25px', width='50%'),…"
      ]
     },
     "metadata": {},
     "output_type": "display_data"
    }
   ],
   "source": [
    "df_bureau.createOrReplaceTempView('bureau')"
   ]
  },
  {
   "cell_type": "code",
   "execution_count": 14,
   "id": "6ea93276",
   "metadata": {},
   "outputs": [
    {
     "data": {
      "application/vnd.jupyter.widget-view+json": {
       "model_id": "",
       "version_major": 2,
       "version_minor": 0
      },
      "text/plain": [
       "FloatProgress(value=0.0, bar_style='info', description='Progress:', layout=Layout(height='25px', width='50%'),…"
      ]
     },
     "metadata": {},
     "output_type": "display_data"
    },
    {
     "name": "stdout",
     "output_type": "stream",
     "text": [
      "+-------------+-------------------+\n",
      "|CREDIT_ACTIVE|count_credit_active|\n",
      "+-------------+-------------------+\n",
      "|     Bad debt|                 21|\n",
      "|       Active|             630607|\n",
      "|       Closed|            1079273|\n",
      "|         Sold|               6527|\n",
      "+-------------+-------------------+"
     ]
    }
   ],
   "source": [
    "# Aqui vamos ver os dados distintos na coluna CREDIT_ACTIVE e as suas contagens.\n",
    "# Essa coluna armazena dados do tipo de empréstimo tomado pelos clientes\n",
    "\n",
    "spark.sql('''\n",
    "SELECT\n",
    "    CREDIT_ACTIVE,\n",
    "    COUNT(*) AS count_credit_active\n",
    "FROM bureau\n",
    "GROUP BY CREDIT_ACTIVE\n",
    "''').show()"
   ]
  },
  {
   "cell_type": "markdown",
   "id": "031c5056",
   "metadata": {},
   "source": [
    "Utilizando o comando CASE WHEN, vamos desmembrar a coluna CREDIT_ACTIVE em 4 novas colunas (número de diferentes variáveis da coluna original e que serão mantidas). A nova coluna que corresponder ao tipo de credit_active do registro receberá o valor 1, enquanto as outras novas colunas receberão o valor 0. \n",
    "Como cada indivíduo (SK_ID_CURR) pode ter diversas ocorrências de CREDIT_ACTIVE em seu histórico, os dados foram agrupados por ID e somados.\n",
    "\n",
    "Neste sentido, podemos verificar também o total de empréstimos cada cliente tomou."
   ]
  },
  {
   "cell_type": "code",
   "execution_count": 15,
   "id": "24e6ed41",
   "metadata": {
    "scrolled": true
   },
   "outputs": [
    {
     "data": {
      "application/vnd.jupyter.widget-view+json": {
       "model_id": "",
       "version_major": 2,
       "version_minor": 0
      },
      "text/plain": [
       "FloatProgress(value=0.0, bar_style='info', description='Progress:', layout=Layout(height='25px', width='50%'),…"
      ]
     },
     "metadata": {},
     "output_type": "display_data"
    }
   ],
   "source": [
    "credit_active = spark.sql('''\n",
    "SELECT\n",
    "    SK_ID_CURR,\n",
    "    SUM(CASE WHEN CREDIT_ACTIVE = 'Closed' THEN 1 ELSE 0 END) AS qtd_credit_active_closed,\n",
    "    SUM(CASE WHEN CREDIT_ACTIVE = 'Active' THEN 1 ELSE 0 END) AS qtd_credit_active_active,\n",
    "    SUM(CASE WHEN CREDIT_ACTIVE = 'Bad debt' THEN 1 ELSE 0 END) AS qtd_credit_active_bad_debt,\n",
    "    SUM(CASE WHEN CREDIT_ACTIVE = 'Sold' THEN 1 ELSE 0 END) AS qtd_credit_active_sold\n",
    "FROM bureau\n",
    "GROUP BY SK_ID_CURR\n",
    "''')"
   ]
  },
  {
   "cell_type": "code",
   "execution_count": 18,
   "id": "53bcef2b",
   "metadata": {},
   "outputs": [
    {
     "data": {
      "application/vnd.jupyter.widget-view+json": {
       "model_id": "",
       "version_major": 2,
       "version_minor": 0
      },
      "text/plain": [
       "FloatProgress(value=0.0, bar_style='info', description='Progress:', layout=Layout(height='25px', width='50%'),…"
      ]
     },
     "metadata": {},
     "output_type": "display_data"
    }
   ],
   "source": [
    "# Verificando o total de empréstimos por cliente\n",
    "loans = spark.sql('''\n",
    "SELECT\n",
    "    SK_ID_CURR,\n",
    "    COUNT(SK_ID_BUREAU) AS total_loans\n",
    "FROM bureau\n",
    "GROUP BY SK_ID_CURR\n",
    "''')"
   ]
  },
  {
   "cell_type": "markdown",
   "id": "db91d4d9",
   "metadata": {},
   "source": [
    "A coluna CREDIT_TYPE será desmembrada em suas variáveis mais comuns e uma coluna \"other\" será criada para agupar a ocorrência das variáveis com baixa ocorrência.\n",
    "\n",
    "Descrição da coluna CREDIT_TYPE: Type of Credit Bureau credit (Car, cash,...)"
   ]
  },
  {
   "cell_type": "code",
   "execution_count": 14,
   "id": "62c1a437",
   "metadata": {},
   "outputs": [
    {
     "data": {
      "application/vnd.jupyter.widget-view+json": {
       "model_id": "",
       "version_major": 2,
       "version_minor": 0
      },
      "text/plain": [
       "FloatProgress(value=0.0, bar_style='info', description='Progress:', layout=Layout(height='25px', width='50%'),…"
      ]
     },
     "metadata": {},
     "output_type": "display_data"
    },
    {
     "name": "stdout",
     "output_type": "stream",
     "text": [
      "+--------------------------------------------+-----------------+\n",
      "|CREDIT_TYPE                                 |count_credit_type|\n",
      "+--------------------------------------------+-----------------+\n",
      "|Loan for working capital replenishment      |469              |\n",
      "|Real estate loan                            |27               |\n",
      "|Unknown type of loan                        |555              |\n",
      "|Loan for the purchase of equipment          |19               |\n",
      "|Cash loan (non-earmarked)                   |56               |\n",
      "|Consumer credit                             |1251615          |\n",
      "|Another type of loan                        |1017             |\n",
      "|Microloan                                   |12413            |\n",
      "|Mortgage                                    |18391            |\n",
      "|Loan for business development               |1975             |\n",
      "|Interbank credit                            |1                |\n",
      "|Car loan                                    |27690            |\n",
      "|Credit card                                 |402195           |\n",
      "|Mobile operator loan                        |1                |\n",
      "|Loan for purchase of shares (margin lending)|4                |\n",
      "+--------------------------------------------+-----------------+"
     ]
    }
   ],
   "source": [
    "# Analisando os dados distintos na coluna CREDIT_TYPE e as suas contagens\n",
    "spark.sql('''\n",
    "SELECT\n",
    "    CREDIT_TYPE,\n",
    "    COUNT(*) AS count_credit_type\n",
    "FROM bureau\n",
    "GROUP BY CREDIT_TYPE\n",
    "''').show(truncate=False)"
   ]
  },
  {
   "cell_type": "code",
   "execution_count": 21,
   "id": "84aed346",
   "metadata": {
    "scrolled": true
   },
   "outputs": [
    {
     "data": {
      "application/vnd.jupyter.widget-view+json": {
       "model_id": "",
       "version_major": 2,
       "version_minor": 0
      },
      "text/plain": [
       "FloatProgress(value=0.0, bar_style='info', description='Progress:', layout=Layout(height='25px', width='50%'),…"
      ]
     },
     "metadata": {},
     "output_type": "display_data"
    }
   ],
   "source": [
    "#Novas colunas criadas para Consumer credit, Microloan, Mortgage, Loan for business development, Car loan, Credit card e Other\n",
    "\n",
    "credit_type = spark.sql('''\n",
    "SELECT\n",
    "    SK_ID_CURR,\n",
    "    SUM(CASE WHEN CREDIT_TYPE = 'Consumer credit' THEN 1 ELSE 0 END) AS qtd_credit_type_consumer_credit,\n",
    "    SUM(CASE WHEN CREDIT_TYPE = 'Microloan' THEN 1 ELSE 0 END) AS qtd_credit_type_microloan,\n",
    "    SUM(CASE WHEN CREDIT_TYPE = 'Mortgage' THEN 1 ELSE 0 END) AS qtd_credit_type_mortgage,\n",
    "    SUM(CASE WHEN CREDIT_TYPE = 'Loan for business development' THEN 1 ELSE 0 END) AS qtd_credit_type_loan_business_development,\n",
    "    SUM(CASE WHEN CREDIT_TYPE = 'Car loan' THEN 1 ELSE 0 END) AS qtd_credit_type_car_loan,\n",
    "    SUM(CASE WHEN CREDIT_TYPE = 'Credit card' THEN 1 ELSE 0 END) AS qtd_credit_type_credit_card,\n",
    "    SUM(CASE WHEN CREDIT_TYPE NOT IN ('Consumer credit', 'Microloan', 'Mortgage', 'Loan for business development', 'Car loan', 'Credit card') THEN 1 ELSE 0 END) AS qtd_credit_type_other\n",
    "FROM bureau\n",
    "GROUP BY SK_ID_CURR\n",
    "''')"
   ]
  },
  {
   "cell_type": "markdown",
   "id": "bfe67e83",
   "metadata": {},
   "source": [
    "Da coluna AMT_CREDIT_SUM será obtida a soma e o valor médio para cada cliente.\n",
    "\n",
    "Descrição da coluna AMT_CREDIT_SUM: Current credit amount for the Credit Bureau credit"
   ]
  },
  {
   "cell_type": "code",
   "execution_count": 47,
   "id": "1a8f13a9",
   "metadata": {
    "scrolled": true
   },
   "outputs": [
    {
     "data": {
      "application/vnd.jupyter.widget-view+json": {
       "model_id": "",
       "version_major": 2,
       "version_minor": 0
      },
      "text/plain": [
       "FloatProgress(value=0.0, bar_style='info', description='Progress:', layout=Layout(height='25px', width='50%'),…"
      ]
     },
     "metadata": {},
     "output_type": "display_data"
    }
   ],
   "source": [
    "sum_amt_credit = spark.sql('''\n",
    "SELECT\n",
    "    SK_ID_CURR,\n",
    "    SUM((AMT_CREDIT_SUM)) AS sum_amt_credit_sum,\n",
    "    ROUND(AVG(AMT_CREDIT_SUM), 2) AS avg_amt_credit_sum\n",
    "FROM bureau\n",
    "GROUP BY SK_ID_CURR\n",
    "''')"
   ]
  },
  {
   "cell_type": "markdown",
   "id": "bc2150e9",
   "metadata": {},
   "source": [
    "Da coluna DAYS_CREDIT será obtida a média, o valor máximo e o valor mínimo para cada cliente. Os valores serão multiplicados por -1 para que deixem de ser negativos. As variáveis valor máximo e o valor mínimo serão também convertidas do tipo FLOAT para o tipo INT utilizando a função CAST.\n",
    "\n",
    "Descrição da coluna DAYS_CREDIT: How many days before current application did client apply for Credit Bureau credit"
   ]
  },
  {
   "cell_type": "code",
   "execution_count": 45,
   "id": "95ff4d86",
   "metadata": {
    "scrolled": false
   },
   "outputs": [
    {
     "data": {
      "application/vnd.jupyter.widget-view+json": {
       "model_id": "",
       "version_major": 2,
       "version_minor": 0
      },
      "text/plain": [
       "FloatProgress(value=0.0, bar_style='info', description='Progress:', layout=Layout(height='25px', width='50%'),…"
      ]
     },
     "metadata": {},
     "output_type": "display_data"
    }
   ],
   "source": [
    "days_credit = spark.sql('''\n",
    "SELECT\n",
    "    SK_ID_CURR,\n",
    "    CAST(MIN((DAYS_CREDIT)*-1) AS INT)  AS min_days_credit,\n",
    "    CAST(MAX((DAYS_CREDIT)*-1) AS INT )AS max_days_credit,\n",
    "    ROUND(AVG((DAYS_CREDIT)*-1), 2) AS avg_days_credit\n",
    "FROM bureau\n",
    "GROUP BY SK_ID_CURR\n",
    "''')"
   ]
  },
  {
   "cell_type": "markdown",
   "id": "1a47aff3",
   "metadata": {},
   "source": [
    "A coluna CNT_CREDIT_PROLONG se refere ao número de vezes em que o pagamento do crédito concedido foi prorrogado. Aqui, mais uma vez agregando pelo ID do cliente, teremos o número total de vezes no qual o pagamento foi prorrogado.\n",
    "\n",
    "Descrição da coluna CNT_CREDIT_PROLONG: How many times was the Credit Bureau credit prolonged"
   ]
  },
  {
   "cell_type": "code",
   "execution_count": 24,
   "id": "f2c5b019",
   "metadata": {
    "scrolled": true
   },
   "outputs": [
    {
     "data": {
      "application/vnd.jupyter.widget-view+json": {
       "model_id": "",
       "version_major": 2,
       "version_minor": 0
      },
      "text/plain": [
       "FloatProgress(value=0.0, bar_style='info', description='Progress:', layout=Layout(height='25px', width='50%'),…"
      ]
     },
     "metadata": {},
     "output_type": "display_data"
    }
   ],
   "source": [
    "sum_credit_prolong = spark.sql('''\n",
    "SELECT\n",
    "    SK_ID_CURR,\n",
    "    SUM(CNT_CREDIT_PROLONG) AS sum_credit_prolong\n",
    "FROM bureau\n",
    "GROUP BY SK_ID_CURR\n",
    "ORDER BY sum_credit_prolong DESC\n",
    "''')"
   ]
  },
  {
   "cell_type": "markdown",
   "id": "b4a0251b",
   "metadata": {},
   "source": [
    "A coluna CREDIT_CURRENCY registra quando a moeda associada ao crédito foi convertida para uma moeda diferente. Vamos analisar a distribução dos empréstimos nas diferentes moedas.\n",
    "\n",
    "Descrição da coluna CREDIT_CURRENCY: Recoded currency of the Credit Bureau credit"
   ]
  },
  {
   "cell_type": "code",
   "execution_count": 25,
   "id": "5021cf5d",
   "metadata": {
    "scrolled": true
   },
   "outputs": [
    {
     "data": {
      "application/vnd.jupyter.widget-view+json": {
       "model_id": "",
       "version_major": 2,
       "version_minor": 0
      },
      "text/plain": [
       "FloatProgress(value=0.0, bar_style='info', description='Progress:', layout=Layout(height='25px', width='50%'),…"
      ]
     },
     "metadata": {},
     "output_type": "display_data"
    },
    {
     "name": "stdout",
     "output_type": "stream",
     "text": [
      "+---------------+--------+\n",
      "|CREDIT_CURRENCY|count(1)|\n",
      "+---------------+--------+\n",
      "|     currency 2|    1224|\n",
      "|     currency 1| 1715020|\n",
      "|     currency 4|      10|\n",
      "|     currency 3|     174|\n",
      "+---------------+--------+"
     ]
    }
   ],
   "source": [
    "spark.sql('''\n",
    "SELECT\n",
    "    CREDIT_CURRENCY,\n",
    "    COUNT(*)\n",
    "FROM bureau\n",
    "GROUP BY CREDIT_CURRENCY\n",
    "''').show()"
   ]
  },
  {
   "cell_type": "markdown",
   "id": "a7cd9170",
   "metadata": {},
   "source": [
    "Visto que a grande maioria dos empréstimos foi realizada na \"currency 1\", vamos agregar esta informações por cliente utilizando \"currency 1\" ou \"other\""
   ]
  },
  {
   "cell_type": "code",
   "execution_count": 26,
   "id": "790fdcd9",
   "metadata": {},
   "outputs": [
    {
     "data": {
      "application/vnd.jupyter.widget-view+json": {
       "model_id": "",
       "version_major": 2,
       "version_minor": 0
      },
      "text/plain": [
       "FloatProgress(value=0.0, bar_style='info', description='Progress:', layout=Layout(height='25px', width='50%'),…"
      ]
     },
     "metadata": {},
     "output_type": "display_data"
    }
   ],
   "source": [
    "credit_currency = spark.sql('''\n",
    "SELECT\n",
    "    SK_ID_CURR,\n",
    "    SUM(CASE WHEN CREDIT_CURRENCY = 'currency 1' THEN 1 ELSE 0 END) AS credit_currency_1,\n",
    "    SUM(CASE WHEN CREDIT_CURRENCY <>'currency 1' THEN 1 ELSE 0 END) AS credit_currency_other\n",
    "FROM bureau\n",
    "GROUP BY SK_ID_CURR\n",
    "''')"
   ]
  },
  {
   "cell_type": "markdown",
   "id": "9a1d2dbd",
   "metadata": {},
   "source": [
    "Agora criamos novas variáveis a partir da tabela original, vamos combiná-las em um dataframe final. Para isso, utilizaremos JOINs."
   ]
  },
  {
   "cell_type": "code",
   "execution_count": 48,
   "id": "cd7c7a09",
   "metadata": {},
   "outputs": [
    {
     "data": {
      "application/vnd.jupyter.widget-view+json": {
       "model_id": "",
       "version_major": 2,
       "version_minor": 0
      },
      "text/plain": [
       "FloatProgress(value=0.0, bar_style='info', description='Progress:', layout=Layout(height='25px', width='50%'),…"
      ]
     },
     "metadata": {},
     "output_type": "display_data"
    }
   ],
   "source": [
    "# Join das novas colunas criadas, gerando um novo dataframe \"bureau_final\"\n",
    "\n",
    "bureau_final = credit_active.join(loans, on='SK_ID_CURR').join(sum_amt_credit, on='SK_ID_CURR').join(days_credit, on='SK_ID_CURR').join(credit_type, on='SK_ID_CURR').join(sum_credit_prolong, on='SK_ID_CURR').join(credit_currency, on='SK_ID_CURR')  "
   ]
  },
  {
   "cell_type": "code",
   "execution_count": 49,
   "id": "4ef3cc8c",
   "metadata": {
    "scrolled": true
   },
   "outputs": [
    {
     "data": {
      "application/vnd.jupyter.widget-view+json": {
       "model_id": "",
       "version_major": 2,
       "version_minor": 0
      },
      "text/plain": [
       "FloatProgress(value=0.0, bar_style='info', description='Progress:', layout=Layout(height='25px', width='50%'),…"
      ]
     },
     "metadata": {},
     "output_type": "display_data"
    },
    {
     "name": "stdout",
     "output_type": "stream",
     "text": [
      "+----------+------------------------+------------------------+--------------------------+----------------------+-----------+------------------+------------------+---------------+---------------+---------------+-------------------------------+-------------------------+------------------------+-----------------------------------------+------------------------+---------------------------+---------------------+------------------+-----------------+---------------------+\n",
      "|SK_ID_CURR|qtd_credit_active_closed|qtd_credit_active_active|qtd_credit_active_bad_debt|qtd_credit_active_sold|total_loans|sum_amt_credit_sum|avg_amt_credit_sum|min_days_credit|max_days_credit|avg_days_credit|qtd_credit_type_consumer_credit|qtd_credit_type_microloan|qtd_credit_type_mortgage|qtd_credit_type_loan_business_development|qtd_credit_type_car_loan|qtd_credit_type_credit_card|qtd_credit_type_other|sum_credit_prolong|credit_currency_1|credit_currency_other|\n",
      "+----------+------------------------+------------------------+--------------------------+----------------------+-----------+------------------+------------------+---------------+---------------+---------------+-------------------------------+-------------------------+------------------------+-----------------------------------------+------------------------+---------------------------+---------------------+------------------+-----------------+---------------------+\n",
      "|    146433|                       5|                       1|                         0|                     0|          6|        2923152.66|         487192.11|            456|           2738|         1436.5|                              6|                        0|                       0|                                        0|                       0|                          0|                    0|               0.0|                6|                    0|\n",
      "|    424856|                       7|                       1|                         0|                     0|          8|        618610.185|          77326.27|            750|           1620|        1283.75|                              6|                        0|                       0|                                        0|                       0|                          2|                    0|               0.0|                8|                    0|\n",
      "|    100320|                       3|                       3|                         0|                     0|          6|5861591.1899999995|         976931.86|            470|           2410|         1402.5|                              2|                        0|                       0|                                        0|                       2|                          2|                    0|               0.0|                6|                    0|\n",
      "|    411129|                       3|                       2|                         0|                     0|          5|       1.0421586E7|         2084317.2|            150|           2401|         1154.8|                              4|                        0|                       0|                                        0|                       0|                          1|                    0|               0.0|                3|                    2|\n",
      "|    242097|                       1|                       0|                         0|                     0|          1|          333000.0|          333000.0|            441|            441|          441.0|                              1|                        0|                       0|                                        0|                       0|                          0|                    0|               0.0|                1|                    0|\n",
      "|    366716|                       4|                       2|                         0|                     0|          6|         2030085.0|          338347.5|            540|           2588|         1256.5|                              5|                        0|                       0|                                        0|                       0|                          1|                    0|               0.0|                6|                    0|\n",
      "|    222457|                       0|                       3|                         0|                     0|          3|         3442500.0|         1147500.0|            382|            794|         656.33|                              2|                        0|                       0|                                        0|                       0|                          1|                    0|               0.0|                3|                    0|\n",
      "|    306859|                       0|                       1|                         0|                     0|          1|          139500.0|          139500.0|            802|            802|          802.0|                              0|                        0|                       0|                                        0|                       0|                          1|                    0|               0.0|                1|                    0|\n",
      "|    272074|                       0|                       3|                         0|                     0|          3|          346644.0|          115548.0|            227|            411|         322.33|                              0|                        0|                       0|                                        0|                       0|                          3|                    0|               0.0|                3|                    0|\n",
      "|    332661|                      11|                       4|                         0|                     0|         15|         4333509.0|          288900.6|            260|           1444|         818.93|                             12|                        0|                       0|                                        0|                       0|                          3|                    0|               0.0|               15|                    0|\n",
      "|    396630|                       1|                       1|                         0|                     0|          2|         207679.05|         103839.53|            120|            800|          460.0|                              2|                        0|                       0|                                        0|                       0|                          0|                    0|               0.0|                2|                    0|\n",
      "|    379813|                       1|                       1|                         0|                     0|          2|          547897.5|         273948.75|            351|           2922|         1636.5|                              2|                        0|                       0|                                        0|                       0|                          0|                    0|               0.0|                2|                    0|\n",
      "|    115053|                       6|                       0|                         0|                     0|          6|       1238192.775|         206365.46|            270|           1514|          799.0|                              6|                        0|                       0|                                        0|                       0|                          0|                    0|               0.0|                6|                    0|\n",
      "|    281174|                       3|                       9|                         0|                     0|         12|        4435117.29|         369593.11|            756|           2844|         1263.0|                              6|                        0|                       0|                                        0|                       0|                          6|                    0|               0.0|               12|                    0|\n",
      "|    111710|                       2|                       0|                         0|                     0|          2|          241695.0|          120847.5|           1283|           1448|         1365.5|                              2|                        0|                       0|                                        0|                       0|                          0|                    0|               0.0|                2|                    0|\n",
      "|    433985|                       2|                       1|                         0|                     0|          3|486371.16000000003|         162123.72|            865|           2493|         1412.0|                              2|                        0|                       0|                                        0|                       0|                          1|                    0|               0.0|                3|                    0|\n",
      "|    333648|                       3|                       3|                         0|                     0|          6|         1576961.1|         262826.85|             97|            618|         383.83|                              5|                        0|                       0|                                        0|                       0|                          1|                    0|               0.0|                6|                    0|\n",
      "|    378590|                       4|                       1|                         0|                     0|          5|          768289.5|          153657.9|            121|           2862|          959.0|                              4|                        0|                       0|                                        0|                       0|                          1|                    0|               0.0|                5|                    0|\n",
      "|    348905|                       0|                       2|                         0|                     0|          2|          873000.0|          436500.0|            295|           1042|          668.5|                              1|                        0|                       0|                                        0|                       0|                          1|                    0|               0.0|                2|                    0|\n",
      "|    299988|                       1|                       1|                         0|                     0|          2|          921915.0|          460957.5|            111|           1292|          701.5|                              2|                        0|                       0|                                        0|                       0|                          0|                    0|               0.0|                2|                    0|\n",
      "+----------+------------------------+------------------------+--------------------------+----------------------+-----------+------------------+------------------+---------------+---------------+---------------+-------------------------------+-------------------------+------------------------+-----------------------------------------+------------------------+---------------------------+---------------------+------------------+-----------------+---------------------+\n",
      "only showing top 20 rows"
     ]
    }
   ],
   "source": [
    "bureau_final.show()"
   ]
  },
  {
   "cell_type": "code",
   "execution_count": 50,
   "id": "d6e24a9a",
   "metadata": {
    "scrolled": true
   },
   "outputs": [
    {
     "data": {
      "application/vnd.jupyter.widget-view+json": {
       "model_id": "",
       "version_major": 2,
       "version_minor": 0
      },
      "text/plain": [
       "FloatProgress(value=0.0, bar_style='info', description='Progress:', layout=Layout(height='25px', width='50%'),…"
      ]
     },
     "metadata": {},
     "output_type": "display_data"
    },
    {
     "name": "stdout",
     "output_type": "stream",
     "text": [
      "A tabela bureau_final contem 305811 linhas"
     ]
    }
   ],
   "source": [
    "# Conferindo se o número de linhas do novo dataframe coincide com o número de SK_ID_CURR distintos da tabela original.\n",
    "rows_count2 = bureau_final.select(\"SK_ID_CURR\").count()\n",
    "\n",
    "print (f\"A tabela bureau_final contem {rows_count2} linhas\")"
   ]
  },
  {
   "cell_type": "code",
   "execution_count": 51,
   "id": "752ad567",
   "metadata": {},
   "outputs": [
    {
     "data": {
      "application/vnd.jupyter.widget-view+json": {
       "model_id": "",
       "version_major": 2,
       "version_minor": 0
      },
      "text/plain": [
       "FloatProgress(value=0.0, bar_style='info', description='Progress:', layout=Layout(height='25px', width='50%'),…"
      ]
     },
     "metadata": {},
     "output_type": "display_data"
    }
   ],
   "source": [
    "#Escrevendo a tabela bureau_final no bucket do S3\n",
    "\n",
    "bureau_final.write.csv(\"s3://datasets-projects/bureau_final.csv\")"
   ]
  },
  {
   "cell_type": "markdown",
   "id": "6f35e2c2",
   "metadata": {},
   "source": [
    "## Considerações finais\n",
    "\n",
    "\n",
    "-Um número grande de outras variáveis ainda poderia ser criado com base na tabela \"bureau\". Mas o foco aqui foi mostrar as operações (principalmente agregações) que podem ser utilizadas para gerar novas variáveis a partir de um dataset já existente.\n",
    "\n",
    "-O próximo passo seria repetir este tipo de transformação com as demais tabelas pertencentes ao dataset \"Home Credit Default Risk\". Ao final, joins seriam utilizados para combinar os registros das novas tabelas geradas e, assim, teríamos um arquivo final contendo as variáveis transformadas de todas as tabelas do dataset. Esse arquivo final seria utilizado para rodar os modelos estatísticos."
   ]
  }
 ],
 "metadata": {
  "kernelspec": {
   "display_name": "PySpark",
   "language": "python",
   "name": "pysparkkernel"
  },
  "language_info": {
   "codemirror_mode": {
    "name": "python",
    "version": 3
   },
   "file_extension": ".py",
   "mimetype": "text/x-python",
   "name": "pyspark",
   "pygments_lexer": "python3"
  }
 },
 "nbformat": 4,
 "nbformat_minor": 5
}
